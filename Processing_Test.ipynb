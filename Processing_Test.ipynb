{
 "cells": [
  {
   "cell_type": "code",
   "execution_count": 1,
   "metadata": {},
   "outputs": [],
   "source": [
    "from IPython.display import HTML"
   ]
  },
  {
   "cell_type": "code",
   "execution_count": 2,
   "metadata": {},
   "outputs": [],
   "source": [
    "html_template = \"\"\"\n",
    "<script type=\"text/javascript\" src=\"processing.min.js\"></script> \n",
    "<script type=\"text/javascript\">\n",
    "var processingCode = `{script}`;\n",
    "var myCanvas = document.getElementById(\"canvas{name}\");\n",
    "var jsCode = Processing.compile(processingCode);\n",
    "var processingInstance = new Processing(myCanvas, jsCode);\n",
    "</script>\n",
    "<canvas id=\"canvas{name}\"> </canvas> \n",
    "\"\"\"\n",
    "from IPython.core.magic import register_cell_magic\n",
    "COUNT = 0\n",
    "@register_cell_magic\n",
    "def Processing(line, cell):\n",
    "    global COUNT\n",
    "    namecanvas = \"canvas-{}\".format(COUNT)\n",
    "    COUNT += 1\n",
    "    html_code = html_template.format(script=cell, name=namecanvas)\n",
    "    return HTML(html_code)\n",
    "del Processing\n"
   ]
  },
  {
   "cell_type": "code",
   "execution_count": 3,
   "metadata": {},
   "outputs": [
    {
     "data": {
      "text/html": [
       "\n",
       "<script type=\"text/javascript\" src=\"processing.min.js\"></script> \n",
       "<script type=\"text/javascript\">\n",
       "var processingCode = `\n",
       "int i = 0;\n",
       "void setup() {\n",
       "    size(400, 400);\n",
       "    stroke(0, 0, 0, 100);\n",
       "    colorMode(HSB);\n",
       "}\n",
       "void draw() {\n",
       "    i++;\n",
       "    fill(255 * sin(i / 240.0) * sin(i / 240.0), 200, 175, 50);\n",
       "    noStroke();\n",
       "    ellipse(mouseX, mouseY, 20, 20);\n",
       "}\n",
       "`;\n",
       "var myCanvas = document.getElementById(\"canvascanvas-0\");\n",
       "var jsCode = Processing.compile(processingCode);\n",
       "var processingInstance = new Processing(myCanvas, jsCode);\n",
       "</script>\n",
       "<canvas id=\"canvascanvas-0\"> </canvas> \n"
      ],
      "text/plain": [
       "<IPython.core.display.HTML object>"
      ]
     },
     "execution_count": 3,
     "metadata": {},
     "output_type": "execute_result"
    }
   ],
   "source": [
    "%%Processing\n",
    "\n",
    "int i = 0;\n",
    "void setup() {\n",
    "    size(400, 400);\n",
    "    stroke(0, 0, 0, 100);\n",
    "    colorMode(HSB);\n",
    "}\n",
    "void draw() {\n",
    "    i++;\n",
    "    fill(255 * sin(i / 240.0) * sin(i / 240.0), 200, 175, 50);\n",
    "    noStroke();\n",
    "    ellipse(mouseX, mouseY, 20, 20);\n",
    "}"
   ]
  },
  {
   "cell_type": "code",
   "execution_count": null,
   "metadata": {},
   "outputs": [],
   "source": []
  }
 ],
 "metadata": {
  "kernelspec": {
   "display_name": "Python 3",
   "language": "python",
   "name": "python3"
  },
  "language_info": {
   "codemirror_mode": {
    "name": "ipython",
    "version": 3
   },
   "file_extension": ".py",
   "mimetype": "text/x-python",
   "name": "python",
   "nbconvert_exporter": "python",
   "pygments_lexer": "ipython3",
   "version": "3.6.1"
  }
 },
 "nbformat": 4,
 "nbformat_minor": 2
}
